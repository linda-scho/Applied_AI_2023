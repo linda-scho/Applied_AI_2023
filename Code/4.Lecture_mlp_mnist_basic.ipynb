{
 "cells": [
  {
   "cell_type": "markdown",
   "metadata": {
    "id": "CxXz4eo1XUAP",
    "pycharm": {
     "name": "#%% md\n"
    }
   },
   "source": [
    "## Neural Networks\n",
    "### Hand-in: Solve MNIST classification with basic sklearn functions\n",
    "\n",
    "The goal of this exercise is to familiarise you with working with datasets and transferring the MLP classification from the PRACTICE to one of the standard benchmark datasets: MNIST or fashion MNIST.\n",
    "\n",
    "Note: The original [MNIST dataset](http://yann.lecun.com/exdb/mnist/) contains 28x28px images of handwritten digits. Members of the AI/ML/Data Science community love this dataset and use it as a benchmark to validate their algorithms. In fact, MNIST is often the first dataset researchers try. *\"If it doesn't work on **MNIST**, it won't work at all\"*, they said. *\"Well, if it does work on MNIST, it may still fail on others.\"*\n",
    "A good alternative is using the [Fashion-MNIST dataset](https://github.com/zalandoresearch/fashion-mnist) for the following reasons:\n",
    "- MNIST is too easy. Convolutional nets can achieve 99.7% on MNIST (we will introduce this in the next lecture, thus, skip this for now). Classic machine learning algorithms can also achieve 97% easily.\n",
    "- MNIST is overused.\n",
    "- MNIST can not represent modern CV tasks.\n",
    "Thus for your experiments, make your own choice after briefly looking into both.\n",
    "\n",
    "For the hand-in, go through the following tasks and answer the following questions.\n",
    "\n",
    "Tasks:\n",
    "1. Search online about characteristics and usage of the MNIST and/or FashionMNIST data set\n",
    "* **Dataset with 60,000 training and 10,000 test examples of images. It shows handwritten images with digits between 0 and 9.**\n",
    "\n",
    "2. Build your own \"data loader\" to prepare training and test splits as well as input data and output labels. **See Code**\n",
    "\n",
    "3. Reproduce the steps in the PRACTICE of using the MLP function from sklearn to classify the data. **See Code**\n",
    "\n",
    "4. Understand and test what the respective loss function and optimisers are.\n",
    "**optimiser:**\n",
    "* **Stochastic Gradient descent was used first. Pro: It uses a subset of data and thus is computationally efficient. Con: It requires careful tuning of hyperparameters. (For a discussion see Question 3.)**\n",
    "\n",
    "**loss function:**\n",
    "* **cross-entropy loss function was used first. (For a discussion see Question 3.)**\n",
    "5. Plot some training progress (e.g. plot the loss) **See Code**\n",
    "6. Have a brief (!) experiment with different settings for the hyperparameters: batch_size, learning_rate, hidden_layer_sizes. **See Code**\n",
    "\n",
    "Questions:\n",
    "1. What is the best accuracy that you found?\n",
    "* **The best accuracy was 0.9701**\n",
    "\n",
    "2. What are good values of batch_size, learning_rate, hidden_layer_sizes?\n",
    "* **The following hyperparameters were choosen based on trying:**\n",
    "* **hidden layer sizes (60, 40):** In Model 2, the hidden layer sizes are increased which means the model has more neurons and more layers in the hidden part.\n",
    "* **learning rate init (0.001):** Model 2 uses a smaller learning rate which generally results in slower convergence but can help the optimization process avoid overshooting the optimal weights. By allowing the learning rate to decrease more gradually, the model may find more accurate weights and achieve better performance.\n",
    "* **epochs (number of training iteration) (100) in combination with early stopping (True):** Model 2 has more training epochs which allows the model to see the data more times during training, potentially leading to better convergence and improved performance. Due to the early stopping the iterations are stopped at epoch 47 as there was no improvement over the last 10 iterations. Thus, iterations of 50 should have been sufficient.\n",
    "* **batch size (32):** Model 2 uses a larger batch size. This can offer advantages such as faster convergence and more stable gradients. The averaging of gradients over a larger batch can lead to more accurate weight updates, resulting in better performance.\n",
    "\n",
    "3. What optimiser options did you choose (and why)?\n",
    "* **Two optimisers were tested:**\n",
    "* **Stochastic Gradient Descent as it a) can converge faster compared to other optimization algorithms, especially when dealing with large datasets and b) uses  Memory efficiently as it updates the model parameters based on individual samples or small batches of samples.**\n",
    "* **Adam as it a) adjusts the learning rate individually for each parameter, which can help improve convergence and avoid getting stuck in suboptimal solutions and b) uses a momentum to accelerate convergence. Also, it is is known to be relatively robust to the choice of hyperparameters compared to other optimization algorithms.**\n",
    "* **By trying both optimzers, it was found that SGD yields better results ceteris paribus.**\n",
    "\n",
    "4. What max_iter do you need to converge?\n",
    "* **48 were necessary in the end. It was decided to use 100 (a large number) and early stopping. Therebey, it is ensured that the number of epochs is suffiecient (avoid underfitting) but the training is stopped when no improvement results after 10 consecutive iterations (avoid overfitting).**\n",
    "\n",
    "5. What did you observe in the results for good and bad hyperparameters?\n",
    "* **For good hyperparameters, the learning curve shows that the training loss steadily decreases over time as the model learns (improving fit to training data), but not to fast (could be sign of overfitting). After reaching a certain point it should reach a plateau or slight fluctuation**\n",
    "* **For bad hyperparameters,the learning curve fluctuated a lot.**\n",
    "* **For bad hyperparameters, the confusion matrix showed large false classified labels for one number. Investigating furhter, it was discovered that the simple model always predicts this number (0).  This indicates that the model is to simple and does not capture the complexity present in the data well.**"
   ]
  },
  {
   "cell_type": "code",
   "execution_count": 19,
   "metadata": {
    "executionInfo": {
     "elapsed": 2693,
     "status": "ok",
     "timestamp": 1689575397500,
     "user": {
      "displayName": "Đorđe Grbić",
      "userId": "17224412897437983949"
     },
     "user_tz": -120
    },
    "id": "TZi_PVSRXUAS",
    "pycharm": {
     "name": "#%%\n"
    }
   },
   "outputs": [],
   "source": [
    "from IPython.display import display\n",
    "import numpy as np\n",
    "import pandas as pd\n",
    "import random\n",
    "import matplotlib.pyplot as plt\n",
    "from sklearn.linear_model import LogisticRegression\n",
    "from sklearn import datasets\n",
    "from sklearn import model_selection\n",
    "from sklearn import metrics\n",
    "from sklearn import neural_network\n",
    "import seaborn as sns\n",
    "from sklearn.preprocessing import StandardScaler\n",
    "\n",
    "import warnings\n",
    "from sklearn.exceptions import UndefinedMetricWarning\n"
   ]
  },
  {
   "cell_type": "markdown",
   "metadata": {
    "id": "rWkki5MPXUAT",
    "pycharm": {
     "name": "#%% md\n"
    }
   },
   "source": [
    "#### Load MNIST data\n",
    "You may consider just using np.loadtxt on https://python-course.eu/data/mnist/mnist_train.csv and https://python-course.eu/data/mnist/mnist_test.csv"
   ]
  },
  {
   "cell_type": "code",
   "execution_count": 2,
   "metadata": {},
   "outputs": [],
   "source": [
    "# Task 2: Build your own \"data loader\" to prepare training and test splits as well as input data and output labels.\n",
    "\n",
    "def data_loader(train_csv, test_csv):\n",
    "    # Loading & preparing training data\n",
    "    df_train = np.loadtxt(train_csv, delimiter=',')\n",
    "    X_train = df_train[:, 1:]\n",
    "    y_train = df_train[:, 0]\n",
    "    \n",
    "    # Loading & preparing test data\n",
    "    df_test = np.loadtxt(test_csv, delimiter=',')\n",
    "    X_test = df_test[:, 1:]\n",
    "    y_test = df_test[:, 0]\n",
    "    \n",
    "    return df_train, df_test, X_train, y_train, X_test, y_test"
   ]
  },
  {
   "cell_type": "code",
   "execution_count": 3,
   "metadata": {},
   "outputs": [],
   "source": [
    "# Load Data\n",
    "df_train, df_test, X_train, y_train, X_test, y_test = data_loader(\"Data/mnist_train.csv\", \"Data/mnist_test.csv\")"
   ]
  },
  {
   "cell_type": "code",
   "execution_count": 4,
   "metadata": {},
   "outputs": [
    {
     "name": "stdout",
     "output_type": "stream",
     "text": [
      "Shape of X_train:  (60000, 784)\n",
      "Shape of y_train:  (60000,)\n",
      "Shape of X_test:  (10000, 784)\n",
      "Shape of y_test:  (10000,)\n"
     ]
    }
   ],
   "source": [
    "# Check loaded data: Look at shape\n",
    "print(\"Shape of X_train: \", X_train.shape)\n",
    "print(\"Shape of y_train: \", y_train.shape)\n",
    "print(\"Shape of X_test: \", X_test.shape)\n",
    "print(\"Shape of y_test: \", y_test.shape)"
   ]
  },
  {
   "cell_type": "markdown",
   "metadata": {
    "id": "N7gxocW9XUAT",
    "pycharm": {
     "name": "#%% md\n"
    }
   },
   "source": [
    "##### Consider some visualisations to get a feeling for the data set!"
   ]
  },
  {
   "cell_type": "code",
   "execution_count": 9,
   "metadata": {
    "id": "r_UhP0-iXUAT",
    "pycharm": {
     "name": "#%%\n"
    }
   },
   "outputs": [
    {
     "data": {
      "image/png": "[encoded data removed]",
      "text/plain": [
       "<Figure size 432x288 with 1 Axes>"
      ]
     },
     "metadata": {
      "needs_background": "light"
     },
     "output_type": "display_data"
    },
    {
     "data": {
      "image/png": "[encoded data removed]",
      "text/plain": [
       "<Figure size 432x288 with 1 Axes>"
      ]
     },
     "metadata": {
      "needs_background": "light"
     },
     "output_type": "display_data"
    },
    {
     "data": {
      "image/png": "[encoded data removed]",
      "text/plain": [
       "<Figure size 432x288 with 1 Axes>"
      ]
     },
     "metadata": {
      "needs_background": "light"
     },
     "output_type": "display_data"
    },
    {
     "data": {
      "image/png": "[encoded data removed]",
      "text/plain": [
       "<Figure size 432x288 with 1 Axes>"
      ]
     },
     "metadata": {
      "needs_background": "light"
     },
     "output_type": "display_data"
    },
    {
     "data": {
      "image/png": "[encoded data removed]",
      "text/plain": [
       "<Figure size 432x288 with 1 Axes>"
      ]
     },
     "metadata": {
      "needs_background": "light"
     },
     "output_type": "display_data"
    }
   ],
   "source": [
    "# Display few sample images (the first 5)\n",
    "for i in range(5):\n",
    "    plt.imshow(X_train[i].reshape(28, 28), cmap='gray')\n",
    "    plt.title(f\"Label: {y_train[i]}\")\n",
    "    plt.show()"
   ]
  },
  {
   "cell_type": "code",
   "execution_count": 10,
   "metadata": {},
   "outputs": [
    {
     "data": {
      "image/png": "[encoded data removed]",
      "text/plain": [
       "<Figure size 432x288 with 1 Axes>"
      ]
     },
     "metadata": {
      "needs_background": "light"
     },
     "output_type": "display_data"
    }
   ],
   "source": [
    "# Display the class distribution (distribution of numbers in the dataset)\n",
    "\n",
    "# Convert y_train to integers\n",
    "y_train = y_train.astype(int)\n",
    "\n",
    "# Count the occurrences of each digit in the training set\n",
    "digit_counts = np.bincount(y_train)\n",
    "\n",
    "# Plot the bar chart\n",
    "plt.bar(range(10), digit_counts)\n",
    "plt.xlabel('Digit')\n",
    "plt.ylabel('Count')\n",
    "plt.title('Distribution of Digit Classes')\n",
    "plt.show()"
   ]
  },
  {
   "cell_type": "markdown",
   "metadata": {
    "id": "Lk177NFSXUAU",
    "pycharm": {
     "name": "#%% md\n"
    }
   },
   "source": [
    "#### Build the model"
   ]
  },
  {
   "cell_type": "code",
   "execution_count": 11,
   "metadata": {},
   "outputs": [],
   "source": [
    "# Standardize the data\n",
    "scaler = StandardScaler()\n",
    "scaler.fit(X_train)\n",
    "X_train = scaler.transform(X_train)\n",
    "X_test = scaler.transform(X_test)"
   ]
  },
  {
   "cell_type": "code",
   "execution_count": 21,
   "metadata": {
    "id": "MlmoNR_hXUAU",
    "pycharm": {
     "name": "#%%\n"
    }
   },
   "outputs": [],
   "source": [
    "# Task 3: Reproduce the steps in the PRACTICE of using the MLP function from sklearn to classify the data.\n",
    "# parameters for the MLP shape\n",
    "hidden_layer_sizes = (5, 4)  # tuple of sizes of hidden layers\n",
    "activation ='relu'\n",
    "\n",
    "#parameters for the learning\n",
    "optimiser = 'sgd' \n",
    "learning_rate_init = 0.01  # learning_rate\n",
    "learning_rate = 'constant'  # learning_rate_type\n",
    "max_iter = 20  # epoches, number of training interations\n",
    "batch_size = 1  # number of training examples per epoch\n",
    "momentum = 0.95  # [0,1]\n",
    "\n",
    "p_random_seed = 13\n",
    "clf_mlp = neural_network.MLPClassifier(\n",
    "    random_state=p_random_seed, solver=optimiser, activation=activation,\n",
    "    hidden_layer_sizes=hidden_layer_sizes, learning_rate_init=learning_rate_init,\n",
    "    max_iter=max_iter, learning_rate=learning_rate, momentum=momentum,\n",
    "    batch_size=batch_size, nesterovs_momentum=True, alpha=1e-05,\n",
    "    beta_1=0.9, beta_2=0.999, epsilon=1e-08, early_stopping=False,\n",
    "    n_iter_no_change=10, power_t=0.5, tol=0.0001, validation_fraction=0.1,\n",
    "    shuffle=True, verbose=1, warm_start=False)"
   ]
  },
  {
   "cell_type": "code",
   "execution_count": 22,
   "metadata": {},
   "outputs": [
    {
     "name": "stdout",
     "output_type": "stream",
     "text": [
      "Iteration 1, loss = 2.34809449\n",
      "Iteration 2, loss = 2.34698690\n",
      "Iteration 3, loss = 2.34648452\n",
      "Iteration 4, loss = 2.34706169\n",
      "Iteration 5, loss = 2.34616736\n",
      "Iteration 6, loss = 2.34679935\n",
      "Iteration 7, loss = 2.34592387\n",
      "Iteration 8, loss = 2.34694900\n",
      "Iteration 9, loss = 2.34694760\n",
      "Iteration 10, loss = 2.34633368\n",
      "Iteration 11, loss = 2.34635400\n",
      "Iteration 12, loss = 2.34667871\n",
      "Iteration 13, loss = 2.34578563\n",
      "Iteration 14, loss = 2.34485427\n",
      "Iteration 15, loss = 2.34530051\n",
      "Iteration 16, loss = 2.34669194\n",
      "Iteration 17, loss = 2.34564985\n",
      "Iteration 18, loss = 2.34495816\n",
      "Iteration 19, loss = 2.34610269\n",
      "Iteration 20, loss = 2.34542591\n"
     ]
    },
    {
     "name": "stderr",
     "output_type": "stream",
     "text": [
      "/Users/lindacaro/opt/anaconda3/lib/python3.9/site-packages/sklearn/neural_network/_multilayer_perceptron.py:691: ConvergenceWarning: Stochastic Optimizer: Maximum iterations (20) reached and the optimization hasn't converged yet.\n",
      "  warnings.warn(\n"
     ]
    },
    {
     "data": {
      "text/html": [
       "<style>#sk-container-id-2 {color: black;}#sk-container-id-2 pre{padding: 0;}#sk-container-id-2 div.sk-toggleable {background-color: white;}#sk-container-id-2 label.sk-toggleable__label {cursor: pointer;display: block;width: 100%;margin-bottom: 0;padding: 0.3em;box-sizing: border-box;text-align: center;}#sk-container-id-2 label.sk-toggleable__label-arrow:before {content: \"▸\";float: left;margin-right: 0.25em;color: #696969;}#sk-container-id-2 label.sk-toggleable__label-arrow:hover:before {color: black;}#sk-container-id-2 div.sk-estimator:hover label.sk-toggleable__label-arrow:before {color: black;}#sk-container-id-2 div.sk-toggleable__content {max-height: 0;max-width: 0;overflow: hidden;text-align: left;background-color: #f0f8ff;}#sk-container-id-2 div.sk-toggleable__content pre {margin: 0.2em;color: black;border-radius: 0.25em;background-color: #f0f8ff;}#sk-container-id-2 input.sk-toggleable__control:checked~div.sk-toggleable__content {max-height: 200px;max-width: 100%;overflow: auto;}#sk-container-id-2 input.sk-toggleable__control:checked~label.sk-toggleable__label-arrow:before {content: \"▾\";}#sk-container-id-2 div.sk-estimator input.sk-toggleable__control:checked~label.sk-toggleable__label {background-color: #d4ebff;}#sk-container-id-2 div.sk-label input.sk-toggleable__control:checked~label.sk-toggleable__label {background-color: #d4ebff;}#sk-container-id-2 input.sk-hidden--visually {border: 0;clip: rect(1px 1px 1px 1px);clip: rect(1px, 1px, 1px, 1px);height: 1px;margin: -1px;overflow: hidden;padding: 0;position: absolute;width: 1px;}#sk-container-id-2 div.sk-estimator {font-family: monospace;background-color: #f0f8ff;border: 1px dotted black;border-radius: 0.25em;box-sizing: border-box;margin-bottom: 0.5em;}#sk-container-id-2 div.sk-estimator:hover {background-color: #d4ebff;}#sk-container-id-2 div.sk-parallel-item::after {content: \"\";width: 100%;border-bottom: 1px solid gray;flex-grow: 1;}#sk-container-id-2 div.sk-label:hover label.sk-toggleable__label {background-color: #d4ebff;}#sk-container-id-2 div.sk-serial::before {content: \"\";position: absolute;border-left: 1px solid gray;box-sizing: border-box;top: 0;bottom: 0;left: 50%;z-index: 0;}#sk-container-id-2 div.sk-serial {display: flex;flex-direction: column;align-items: center;background-color: white;padding-right: 0.2em;padding-left: 0.2em;position: relative;}#sk-container-id-2 div.sk-item {position: relative;z-index: 1;}#sk-container-id-2 div.sk-parallel {display: flex;align-items: stretch;justify-content: center;background-color: white;position: relative;}#sk-container-id-2 div.sk-item::before, #sk-container-id-2 div.sk-parallel-item::before {content: \"\";position: absolute;border-left: 1px solid gray;box-sizing: border-box;top: 0;bottom: 0;left: 50%;z-index: -1;}#sk-container-id-2 div.sk-parallel-item {display: flex;flex-direction: column;z-index: 1;position: relative;background-color: white;}#sk-container-id-2 div.sk-parallel-item:first-child::after {align-self: flex-end;width: 50%;}#sk-container-id-2 div.sk-parallel-item:last-child::after {align-self: flex-start;width: 50%;}#sk-container-id-2 div.sk-parallel-item:only-child::after {width: 0;}#sk-container-id-2 div.sk-dashed-wrapped {border: 1px dashed gray;margin: 0 0.4em 0.5em 0.4em;box-sizing: border-box;padding-bottom: 0.4em;background-color: white;}#sk-container-id-2 div.sk-label label {font-family: monospace;font-weight: bold;display: inline-block;line-height: 1.2em;}#sk-container-id-2 div.sk-label-container {text-align: center;}#sk-container-id-2 div.sk-container {/* jupyter's `normalize.less` sets `[hidden] { display: none; }` but bootstrap.min.css set `[hidden] { display: none !important; }` so we also need the `!important` here to be able to override the default hidden behavior on the sphinx rendered scikit-learn.org. See: https://github.com/scikit-learn/scikit-learn/issues/21755 */display: inline-block !important;position: relative;}#sk-container-id-2 div.sk-text-repr-fallback {display: none;}</style><div id=\"sk-container-id-2\" class=\"sk-top-container\"><div class=\"sk-text-repr-fallback\"><pre>MLPClassifier(alpha=1e-05, batch_size=1, hidden_layer_sizes=(5, 4),\n",
       "              learning_rate_init=0.01, max_iter=20, momentum=0.95,\n",
       "              random_state=13, solver=&#x27;sgd&#x27;, verbose=1)</pre><b>In a Jupyter environment, please rerun this cell to show the HTML representation or trust the notebook. <br />On GitHub, the HTML representation is unable to render, please try loading this page with nbviewer.org.</b></div><div class=\"sk-container\" hidden><div class=\"sk-item\"><div class=\"sk-estimator sk-toggleable\"><input class=\"sk-toggleable__control sk-hidden--visually\" id=\"sk-estimator-id-2\" type=\"checkbox\" checked><label for=\"sk-estimator-id-2\" class=\"sk-toggleable__label sk-toggleable__label-arrow\">MLPClassifier</label><div class=\"sk-toggleable__content\"><pre>MLPClassifier(alpha=1e-05, batch_size=1, hidden_layer_sizes=(5, 4),\n",
       "              learning_rate_init=0.01, max_iter=20, momentum=0.95,\n",
       "              random_state=13, solver=&#x27;sgd&#x27;, verbose=1)</pre></div></div></div></div></div>"
      ],
      "text/plain": [
       "MLPClassifier(alpha=1e-05, batch_size=1, hidden_layer_sizes=(5, 4),\n",
       "              learning_rate_init=0.01, max_iter=20, momentum=0.95,\n",
       "              random_state=13, solver='sgd', verbose=1)"
      ]
     },
     "execution_count": 22,
     "metadata": {},
     "output_type": "execute_result"
    }
   ],
   "source": [
    "# Fit data\n",
    "clf_mlp.fit(X_train, y_train)"
   ]
  },
  {
   "cell_type": "markdown",
   "metadata": {
    "id": "PYy6SSASXUAU",
    "pycharm": {
     "name": "#%% md\n"
    }
   },
   "source": [
    "#### Show prediction and visualisation"
   ]
  },
  {
   "cell_type": "code",
   "execution_count": 14,
   "metadata": {},
   "outputs": [
    {
     "name": "stdout",
     "output_type": "stream",
     "text": [
      "Prediction accuracy: 0.098\n"
     ]
    }
   ],
   "source": [
    "# Show prediction Accuracy\n",
    "test_accuracy = clf_mlp.score(X_test, y_test)\n",
    "print(\"Prediction accuracy:\", test_accuracy)"
   ]
  },
  {
   "cell_type": "code",
   "execution_count": 20,
   "metadata": {
    "id": "tUiwvZ2nXUAV",
    "pycharm": {
     "name": "#%%\n"
    }
   },
   "outputs": [
    {
     "name": "stdout",
     "output_type": "stream",
     "text": [
      "              precision    recall  f1-score   support\n",
      "\n",
      "         0.0       0.10      1.00      0.18       980\n",
      "         1.0       0.00      0.00      0.00      1135\n",
      "         2.0       0.00      0.00      0.00      1032\n",
      "         3.0       0.00      0.00      0.00      1010\n",
      "         4.0       0.00      0.00      0.00       982\n",
      "         5.0       0.00      0.00      0.00       892\n",
      "         6.0       0.00      0.00      0.00       958\n",
      "         7.0       0.00      0.00      0.00      1028\n",
      "         8.0       0.00      0.00      0.00       974\n",
      "         9.0       0.00      0.00      0.00      1009\n",
      "\n",
      "    accuracy                           0.10     10000\n",
      "   macro avg       0.01      0.10      0.02     10000\n",
      "weighted avg       0.01      0.10      0.02     10000\n",
      "\n"
     ]
    },
    {
     "data": {
      "text/plain": [
       "Text(33.0, 0.5, 'true label')"
      ]
     },
     "execution_count": 20,
     "metadata": {},
     "output_type": "execute_result"
    },
    {
     "data": {
      "image/png": "[encoded data removed]",
      "text/plain": [
       "<Figure size 432x288 with 2 Axes>"
      ]
     },
     "metadata": {
      "needs_background": "light"
     },
     "output_type": "display_data"
    }
   ],
   "source": [
    "# Turnoff warnings\n",
    "warnings.filterwarnings(\"ignore\", category=UndefinedMetricWarning)\n",
    "\n",
    "# Analysing the training results\n",
    "test_pred = clf_mlp.predict(X_test) # predict X_test\n",
    "print(metrics.classification_report(y_test, test_pred)) # get metrics as results\n",
    "\n",
    "confusion_matrix = metrics.confusion_matrix(y_test, test_pred) # create confusion matrix\n",
    "plot_tree_cm = sns.heatmap(confusion_matrix, annot=True, center=0)\n",
    "plot_tree_cm.set_xlabel('predicted label')\n",
    "plot_tree_cm.set_ylabel('true label')"
   ]
  },
  {
   "cell_type": "code",
   "execution_count": 17,
   "metadata": {},
   "outputs": [
    {
     "name": "stdout",
     "output_type": "stream",
     "text": [
      "Prediction probabilities: [[0.15130708 0.06880007 0.09557822 ... 0.07650084 0.10743327 0.11817534]\n",
      " [0.15130708 0.06880007 0.09557822 ... 0.07650084 0.10743327 0.11817534]\n",
      " [0.15130708 0.06880007 0.09557822 ... 0.07650084 0.10743327 0.11817534]\n",
      " ...\n",
      " [0.15130708 0.06880007 0.09557822 ... 0.07650084 0.10743327 0.11817534]\n",
      " [0.15130708 0.06880007 0.09557822 ... 0.07650084 0.10743327 0.11817534]\n",
      " [0.15130708 0.06880007 0.09557822 ... 0.07650084 0.10743327 0.11817534]]\n"
     ]
    },
    {
     "data": {
      "text/plain": [
       "[(784, 5), (5, 4), (4, 10)]"
      ]
     },
     "metadata": {},
     "output_type": "display_data"
    },
    {
     "data": {
      "text/plain": [
       "[array([[ 4.39356463e-03, -4.15239324e-03,  5.13045129e-03,\n",
       "          7.36867641e-03,  7.47708143e-03],\n",
       "        [-7.36485289e-04,  1.72517447e-03,  4.35913951e-03,\n",
       "          2.24048247e-03,  3.51257823e-03],\n",
       "        [-7.35624541e-03, -3.18875617e-03, -6.98482918e-03,\n",
       "          5.64910591e-03, -2.01159235e-03],\n",
       "        ...,\n",
       "        [-1.57339293e-03,  7.79383997e-03, -4.28162012e-03,\n",
       "         -8.45173219e-04,  5.04314002e-04],\n",
       "        [-4.14873898e-03, -9.66325860e-04, -7.38922521e-03,\n",
       "          1.80505023e-03,  1.55411165e-05],\n",
       "        [ 2.48925138e-03, -4.53692411e-03,  3.84903638e-03,\n",
       "         -9.01161207e-04, -2.41561626e-03]]),\n",
       " array([[-0.03169716, -0.00080303, -0.11627117, -0.08229726],\n",
       "        [-0.0735262 , -0.04492923, -0.08018001, -0.08221915],\n",
       "        [-0.10005232, -0.03634022, -0.17411666, -0.24029703],\n",
       "        [-0.30086784, -0.02514715, -0.10807897, -0.38364148],\n",
       "        [-0.1281347 , -0.04861212, -0.18274315, -0.24770832]]),\n",
       " array([[-5.21467908e-02, -1.43575448e-02,  2.99899518e-02,\n",
       "          3.95018243e-02, -1.99458473e-02,  1.28902330e-01,\n",
       "         -1.07761243e-03,  6.54638627e-02, -5.17960836e-02,\n",
       "         -2.87202891e-02],\n",
       "        [ 3.46188474e-02,  6.03085830e-03, -2.35796149e-02,\n",
       "         -1.17476835e-03, -9.01470364e-04, -3.99605045e-02,\n",
       "         -4.29780252e-02, -5.81820313e-02, -3.21099317e-02,\n",
       "          1.49443493e-02],\n",
       "        [ 1.27405369e-03,  5.83127191e-03,  1.43931519e-02,\n",
       "          1.96740885e-03, -1.02936610e-01,  3.12140206e-02,\n",
       "         -8.29831352e-07,  2.66255153e-01,  1.91880705e-03,\n",
       "          2.05474433e-02],\n",
       "        [-7.56020338e-03,  9.19071275e-02, -1.09452936e-02,\n",
       "         -1.47623152e-02,  2.66113444e-03, -3.55058008e-03,\n",
       "         -3.15099211e-02,  9.59012856e-02, -2.09830471e-02,\n",
       "          1.41767016e-02]])]"
      ]
     },
     "metadata": {},
     "output_type": "display_data"
    },
    {
     "name": "stdout",
     "output_type": "stream",
     "text": [
      "Weights: None\n"
     ]
    }
   ],
   "source": [
    "#plot the exact predictions\n",
    "# print(\"Prediction:\", list(zip(*[test_pred, y_test])))\n",
    "\n",
    "proba = clf_mlp.predict_proba(X_test)\n",
    "print(\"Prediction probabilities:\", proba)\n",
    "\n",
    "#plot the resulting weight matrix\n",
    "print(\"Weights:\", display([coef.shape for coef in clf_mlp.coefs_],  clf_mlp.coefs_))"
   ]
  },
  {
   "cell_type": "code",
   "execution_count": 18,
   "metadata": {},
   "outputs": [
    {
     "data": {
      "image/png": "[encoded data removed]",
      "text/plain": [
       "<Figure size 432x288 with 1 Axes>"
      ]
     },
     "metadata": {
      "needs_background": "light"
     },
     "output_type": "display_data"
    }
   ],
   "source": [
    "# Task 5: Plot some training progress (e.g. plot the loss)\n",
    "plt.plot(clf_mlp.loss_curve_)\n",
    "plt.xlabel('Iteration')\n",
    "plt.ylabel('Loss')\n",
    "plt.title('Training Loss Progress')\n",
    "plt.show()"
   ]
  },
  {
   "cell_type": "markdown",
   "metadata": {},
   "source": [
    "#### Experimenting with Hyperparameters -> new model"
   ]
  },
  {
   "cell_type": "code",
   "execution_count": 23,
   "metadata": {},
   "outputs": [],
   "source": [
    "# Task 6: Have a brief (!) experiment with different settings for the hyperparameters\n",
    "\n",
    "# parameters for the MLP shape\n",
    "hidden_layer_sizes = (60,40)  # tuple of sizes of hidden layers: increased size\n",
    "activation ='relu'\n",
    "\n",
    "#parameters for the learning\n",
    "optimiser = 'sgd' \n",
    "learning_rate_init = 0.001  # learning rate: decreased\n",
    "learning_rate = 'constant'  \n",
    "max_iter = 100  # epoches, number of training interations: increased\n",
    "batch_size = 32  # number of training examples per epoch: increased\n",
    "momentum = 0.95 \n",
    "\n",
    "p_random_seed = 13\n",
    "clf_mlp2 = neural_network.MLPClassifier(\n",
    "    random_state=p_random_seed, solver=optimiser, activation=activation,\n",
    "    hidden_layer_sizes=hidden_layer_sizes, learning_rate_init=learning_rate_init,\n",
    "    max_iter=max_iter, learning_rate=learning_rate, momentum=momentum,\n",
    "    batch_size=batch_size, nesterovs_momentum=True, alpha=1e-05,\n",
    "    beta_1=0.9, beta_2=0.999, epsilon=1e-08, early_stopping=True,\n",
    "    n_iter_no_change=10, power_t=0.5, tol=0.0001, validation_fraction=0.1,\n",
    "    shuffle=True, verbose=2, warm_start=False)"
   ]
  },
  {
   "cell_type": "code",
   "execution_count": 24,
   "metadata": {},
   "outputs": [
    {
     "name": "stdout",
     "output_type": "stream",
     "text": [
      "Iteration 1, loss = 0.44819158\n",
      "Validation score: 0.933000\n",
      "Iteration 2, loss = 0.17702582\n",
      "Validation score: 0.947833\n",
      "Iteration 3, loss = 0.13273011\n",
      "Validation score: 0.956000\n",
      "Iteration 4, loss = 0.10708999\n",
      "Validation score: 0.957500\n",
      "Iteration 5, loss = 0.08819117\n",
      "Validation score: 0.960333\n",
      "Iteration 6, loss = 0.07519287\n",
      "Validation score: 0.960000\n",
      "Iteration 7, loss = 0.06441907\n",
      "Validation score: 0.961833\n",
      "Iteration 8, loss = 0.05498752\n",
      "Validation score: 0.962000\n",
      "Iteration 9, loss = 0.04758213\n",
      "Validation score: 0.963500\n",
      "Iteration 10, loss = 0.04262063\n",
      "Validation score: 0.963167\n",
      "Iteration 11, loss = 0.03659779\n",
      "Validation score: 0.965833\n",
      "Iteration 12, loss = 0.03217590\n",
      "Validation score: 0.966167\n",
      "Iteration 13, loss = 0.02761797\n",
      "Validation score: 0.963833\n",
      "Iteration 14, loss = 0.02480369\n",
      "Validation score: 0.966167\n",
      "Iteration 15, loss = 0.02226632\n",
      "Validation score: 0.965500\n",
      "Iteration 16, loss = 0.01905765\n",
      "Validation score: 0.967333\n",
      "Iteration 17, loss = 0.01763450\n",
      "Validation score: 0.965333\n",
      "Iteration 18, loss = 0.01506675\n",
      "Validation score: 0.965000\n",
      "Iteration 19, loss = 0.01289437\n",
      "Validation score: 0.964000\n",
      "Iteration 20, loss = 0.01141054\n",
      "Validation score: 0.965667\n",
      "Iteration 21, loss = 0.01009681\n",
      "Validation score: 0.967000\n",
      "Iteration 22, loss = 0.00906773\n",
      "Validation score: 0.965500\n",
      "Iteration 23, loss = 0.00780717\n",
      "Validation score: 0.967667\n",
      "Iteration 24, loss = 0.00712101\n",
      "Validation score: 0.966667\n",
      "Iteration 25, loss = 0.00615398\n",
      "Validation score: 0.967167\n",
      "Iteration 26, loss = 0.00603798\n",
      "Validation score: 0.967333\n",
      "Iteration 27, loss = 0.00523016\n",
      "Validation score: 0.966667\n",
      "Iteration 28, loss = 0.00452669\n",
      "Validation score: 0.967333\n",
      "Iteration 29, loss = 0.00482981\n",
      "Validation score: 0.966833\n",
      "Iteration 30, loss = 0.00422679\n",
      "Validation score: 0.965833\n",
      "Iteration 31, loss = 0.00401490\n",
      "Validation score: 0.967500\n",
      "Iteration 32, loss = 0.00347630\n",
      "Validation score: 0.967667\n",
      "Iteration 33, loss = 0.00305059\n",
      "Validation score: 0.968000\n",
      "Iteration 34, loss = 0.00296352\n",
      "Validation score: 0.968000\n",
      "Iteration 35, loss = 0.00273537\n",
      "Validation score: 0.968167\n",
      "Iteration 36, loss = 0.00253274\n",
      "Validation score: 0.968333\n",
      "Iteration 37, loss = 0.00234173\n",
      "Validation score: 0.967667\n",
      "Iteration 38, loss = 0.00219345\n",
      "Validation score: 0.968333\n",
      "Iteration 39, loss = 0.00201023\n",
      "Validation score: 0.967833\n",
      "Iteration 40, loss = 0.00197914\n",
      "Validation score: 0.967500\n",
      "Iteration 41, loss = 0.00183973\n",
      "Validation score: 0.968167\n",
      "Iteration 42, loss = 0.00171970\n",
      "Validation score: 0.967833\n",
      "Iteration 43, loss = 0.00165620\n",
      "Validation score: 0.967833\n",
      "Iteration 44, loss = 0.00156820\n",
      "Validation score: 0.967667\n",
      "Iteration 45, loss = 0.00152082\n",
      "Validation score: 0.968000\n",
      "Iteration 46, loss = 0.00144709\n",
      "Validation score: 0.967333\n",
      "Iteration 47, loss = 0.00139248\n",
      "Validation score: 0.967333\n",
      "Validation score did not improve more than tol=0.000100 for 10 consecutive epochs. Stopping.\n"
     ]
    },
    {
     "data": {
      "text/html": [
       "<style>#sk-container-id-3 {color: black;}#sk-container-id-3 pre{padding: 0;}#sk-container-id-3 div.sk-toggleable {background-color: white;}#sk-container-id-3 label.sk-toggleable__label {cursor: pointer;display: block;width: 100%;margin-bottom: 0;padding: 0.3em;box-sizing: border-box;text-align: center;}#sk-container-id-3 label.sk-toggleable__label-arrow:before {content: \"▸\";float: left;margin-right: 0.25em;color: #696969;}#sk-container-id-3 label.sk-toggleable__label-arrow:hover:before {color: black;}#sk-container-id-3 div.sk-estimator:hover label.sk-toggleable__label-arrow:before {color: black;}#sk-container-id-3 div.sk-toggleable__content {max-height: 0;max-width: 0;overflow: hidden;text-align: left;background-color: #f0f8ff;}#sk-container-id-3 div.sk-toggleable__content pre {margin: 0.2em;color: black;border-radius: 0.25em;background-color: #f0f8ff;}#sk-container-id-3 input.sk-toggleable__control:checked~div.sk-toggleable__content {max-height: 200px;max-width: 100%;overflow: auto;}#sk-container-id-3 input.sk-toggleable__control:checked~label.sk-toggleable__label-arrow:before {content: \"▾\";}#sk-container-id-3 div.sk-estimator input.sk-toggleable__control:checked~label.sk-toggleable__label {background-color: #d4ebff;}#sk-container-id-3 div.sk-label input.sk-toggleable__control:checked~label.sk-toggleable__label {background-color: #d4ebff;}#sk-container-id-3 input.sk-hidden--visually {border: 0;clip: rect(1px 1px 1px 1px);clip: rect(1px, 1px, 1px, 1px);height: 1px;margin: -1px;overflow: hidden;padding: 0;position: absolute;width: 1px;}#sk-container-id-3 div.sk-estimator {font-family: monospace;background-color: #f0f8ff;border: 1px dotted black;border-radius: 0.25em;box-sizing: border-box;margin-bottom: 0.5em;}#sk-container-id-3 div.sk-estimator:hover {background-color: #d4ebff;}#sk-container-id-3 div.sk-parallel-item::after {content: \"\";width: 100%;border-bottom: 1px solid gray;flex-grow: 1;}#sk-container-id-3 div.sk-label:hover label.sk-toggleable__label {background-color: #d4ebff;}#sk-container-id-3 div.sk-serial::before {content: \"\";position: absolute;border-left: 1px solid gray;box-sizing: border-box;top: 0;bottom: 0;left: 50%;z-index: 0;}#sk-container-id-3 div.sk-serial {display: flex;flex-direction: column;align-items: center;background-color: white;padding-right: 0.2em;padding-left: 0.2em;position: relative;}#sk-container-id-3 div.sk-item {position: relative;z-index: 1;}#sk-container-id-3 div.sk-parallel {display: flex;align-items: stretch;justify-content: center;background-color: white;position: relative;}#sk-container-id-3 div.sk-item::before, #sk-container-id-3 div.sk-parallel-item::before {content: \"\";position: absolute;border-left: 1px solid gray;box-sizing: border-box;top: 0;bottom: 0;left: 50%;z-index: -1;}#sk-container-id-3 div.sk-parallel-item {display: flex;flex-direction: column;z-index: 1;position: relative;background-color: white;}#sk-container-id-3 div.sk-parallel-item:first-child::after {align-self: flex-end;width: 50%;}#sk-container-id-3 div.sk-parallel-item:last-child::after {align-self: flex-start;width: 50%;}#sk-container-id-3 div.sk-parallel-item:only-child::after {width: 0;}#sk-container-id-3 div.sk-dashed-wrapped {border: 1px dashed gray;margin: 0 0.4em 0.5em 0.4em;box-sizing: border-box;padding-bottom: 0.4em;background-color: white;}#sk-container-id-3 div.sk-label label {font-family: monospace;font-weight: bold;display: inline-block;line-height: 1.2em;}#sk-container-id-3 div.sk-label-container {text-align: center;}#sk-container-id-3 div.sk-container {/* jupyter's `normalize.less` sets `[hidden] { display: none; }` but bootstrap.min.css set `[hidden] { display: none !important; }` so we also need the `!important` here to be able to override the default hidden behavior on the sphinx rendered scikit-learn.org. See: https://github.com/scikit-learn/scikit-learn/issues/21755 */display: inline-block !important;position: relative;}#sk-container-id-3 div.sk-text-repr-fallback {display: none;}</style><div id=\"sk-container-id-3\" class=\"sk-top-container\"><div class=\"sk-text-repr-fallback\"><pre>MLPClassifier(alpha=1e-05, batch_size=32, early_stopping=True,\n",
       "              hidden_layer_sizes=(60, 40), max_iter=100, momentum=0.95,\n",
       "              random_state=13, solver=&#x27;sgd&#x27;, verbose=2)</pre><b>In a Jupyter environment, please rerun this cell to show the HTML representation or trust the notebook. <br />On GitHub, the HTML representation is unable to render, please try loading this page with nbviewer.org.</b></div><div class=\"sk-container\" hidden><div class=\"sk-item\"><div class=\"sk-estimator sk-toggleable\"><input class=\"sk-toggleable__control sk-hidden--visually\" id=\"sk-estimator-id-3\" type=\"checkbox\" checked><label for=\"sk-estimator-id-3\" class=\"sk-toggleable__label sk-toggleable__label-arrow\">MLPClassifier</label><div class=\"sk-toggleable__content\"><pre>MLPClassifier(alpha=1e-05, batch_size=32, early_stopping=True,\n",
       "              hidden_layer_sizes=(60, 40), max_iter=100, momentum=0.95,\n",
       "              random_state=13, solver=&#x27;sgd&#x27;, verbose=2)</pre></div></div></div></div></div>"
      ],
      "text/plain": [
       "MLPClassifier(alpha=1e-05, batch_size=32, early_stopping=True,\n",
       "              hidden_layer_sizes=(60, 40), max_iter=100, momentum=0.95,\n",
       "              random_state=13, solver='sgd', verbose=2)"
      ]
     },
     "execution_count": 24,
     "metadata": {},
     "output_type": "execute_result"
    }
   ],
   "source": [
    "clf_mlp2.fit(X_train, y_train)"
   ]
  },
  {
   "cell_type": "code",
   "execution_count": 25,
   "metadata": {},
   "outputs": [
    {
     "name": "stdout",
     "output_type": "stream",
     "text": [
      "Prediction accuracy: 0.9701\n"
     ]
    }
   ],
   "source": [
    "# Show prediction Accuracy\n",
    "test_accuracy2 = clf_mlp2.score(X_test, y_test)\n",
    "print(\"Prediction accuracy:\", test_accuracy2)"
   ]
  },
  {
   "cell_type": "code",
   "execution_count": 26,
   "metadata": {},
   "outputs": [
    {
     "name": "stdout",
     "output_type": "stream",
     "text": [
      "              precision    recall  f1-score   support\n",
      "\n",
      "         0.0       0.98      0.98      0.98       980\n",
      "         1.0       0.98      0.99      0.99      1135\n",
      "         2.0       0.96      0.96      0.96      1032\n",
      "         3.0       0.97      0.97      0.97      1010\n",
      "         4.0       0.97      0.97      0.97       982\n",
      "         5.0       0.96      0.96      0.96       892\n",
      "         6.0       0.97      0.97      0.97       958\n",
      "         7.0       0.97      0.96      0.97      1028\n",
      "         8.0       0.95      0.97      0.96       974\n",
      "         9.0       0.98      0.96      0.97      1009\n",
      "\n",
      "    accuracy                           0.97     10000\n",
      "   macro avg       0.97      0.97      0.97     10000\n",
      "weighted avg       0.97      0.97      0.97     10000\n",
      "\n"
     ]
    },
    {
     "data": {
      "text/plain": [
       "Text(33.0, 0.5, 'true label')"
      ]
     },
     "execution_count": 26,
     "metadata": {},
     "output_type": "execute_result"
    },
    {
     "data": {
      "image/png": "[encoded data removed]",
      "text/plain": [
       "<Figure size 432x288 with 2 Axes>"
      ]
     },
     "metadata": {
      "needs_background": "light"
     },
     "output_type": "display_data"
    }
   ],
   "source": [
    "# Analysing the training results\n",
    "test_pred2 = clf_mlp2.predict(X_test)\n",
    "print(metrics.classification_report(y_test, test_pred2))\n",
    "\n",
    "confusion_matrix2 = metrics.confusion_matrix(y_test, test_pred2)\n",
    "plot_tree_cm2 = sns.heatmap(confusion_matrix2, annot=True, center=0)\n",
    "plot_tree_cm2.set_xlabel('predicted label')\n",
    "plot_tree_cm2.set_ylabel('true label')"
   ]
  },
  {
   "cell_type": "code",
   "execution_count": 27,
   "metadata": {},
   "outputs": [
    {
     "data": {
      "image/png": "[encoded data removed]",
      "text/plain": [
       "<Figure size 432x288 with 1 Axes>"
      ]
     },
     "metadata": {
      "needs_background": "light"
     },
     "output_type": "display_data"
    }
   ],
   "source": [
    "# Plotting the loss curve on training data\n",
    "plt.plot(clf_mlp2.loss_curve_)\n",
    "plt.xlabel('Iteration')\n",
    "plt.ylabel('Loss')\n",
    "plt.title('Training Loss Progress of Model 2')\n",
    "plt.show()"
   ]
  },
  {
   "cell_type": "code",
   "execution_count": null,
   "metadata": {},
   "outputs": [],
   "source": []
  }
 ],
 "metadata": {
  "colab": {
   "provenance": []
  },
  "kernelspec": {
   "display_name": "Python 3 (ipykernel)",
   "language": "python",
   "name": "python3"
  },
  "language_info": {
   "codemirror_mode": {
    "name": "ipython",
    "version": 3
   },
   "file_extension": ".py",
   "mimetype": "text/x-python",
   "name": "python",
   "nbconvert_exporter": "python",
   "pygments_lexer": "ipython3",
   "version": "3.9.12"
  }
 },
 "nbformat": 4,
 "nbformat_minor": 4
}
