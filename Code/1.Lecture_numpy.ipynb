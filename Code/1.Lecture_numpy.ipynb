{
 "cells": [
  {
   "cell_type": "markdown",
   "metadata": {
    "id": "YQNQ4keK-xjv"
   },
   "source": [
    "#  1a. Numpy exercises"
   ]
  },
  {
   "cell_type": "markdown",
   "metadata": {
    "id": "M2o48Okh-_GD"
   },
   "source": [
    "1. Import the numpy package under the name `np`\n",
    "\n",
    "`hint: import … as`"
   ]
  },
  {
   "cell_type": "code",
   "execution_count": 1,
   "metadata": {
    "id": "XN7DFiM7_Pvp"
   },
   "outputs": [],
   "source": [
    "import numpy as np"
   ]
  },
  {
   "cell_type": "markdown",
   "metadata": {
    "id": "POLBAG5M_QPQ"
   },
   "source": [
    "2. Create a null vector of size 10\n",
    "\n",
    "`hint: np.zeros`\n",
    "\n"
   ]
  },
  {
   "cell_type": "code",
   "execution_count": 2,
   "metadata": {
    "id": "aZT2R1tkBicc"
   },
   "outputs": [
    {
     "data": {
      "text/plain": [
       "array([0., 0., 0., 0., 0., 0., 0., 0., 0., 0.])"
      ]
     },
     "execution_count": 2,
     "metadata": {},
     "output_type": "execute_result"
    }
   ],
   "source": [
    "zeros = np.zeros((10,))\n",
    "zeros"
   ]
  },
  {
   "cell_type": "markdown",
   "metadata": {
    "id": "6jmMwHwpAA2H"
   },
   "source": [
    "3. Create a vector with values ranging from 0 to 100\n",
    "\n",
    "`hint: arange`"
   ]
  },
  {
   "cell_type": "code",
   "execution_count": 3,
   "metadata": {
    "id": "g-3xXzvrAWPJ"
   },
   "outputs": [
    {
     "name": "stdout",
     "output_type": "stream",
     "text": [
      "[  0   1   2   3   4   5   6   7   8   9  10  11  12  13  14  15  16  17\n",
      "  18  19  20  21  22  23  24  25  26  27  28  29  30  31  32  33  34  35\n",
      "  36  37  38  39  40  41  42  43  44  45  46  47  48  49  50  51  52  53\n",
      "  54  55  56  57  58  59  60  61  62  63  64  65  66  67  68  69  70  71\n",
      "  72  73  74  75  76  77  78  79  80  81  82  83  84  85  86  87  88  89\n",
      "  90  91  92  93  94  95  96  97  98  99 100]\n"
     ]
    }
   ],
   "source": [
    "range = np.arange(101)\n",
    "print(range)"
   ]
  },
  {
   "cell_type": "markdown",
   "metadata": {
    "id": "RbwjVj99AWXZ"
   },
   "source": [
    "4. Create a 10x10 matrix with random values and find the minimum, maximum, and mean values. Normalize the said matrix\n",
    "\n",
    "`hint: min, max, ...`"
   ]
  },
  {
   "cell_type": "code",
   "execution_count": 4,
   "metadata": {
    "id": "_0VEPKs4AxLS"
   },
   "outputs": [
    {
     "name": "stdout",
     "output_type": "stream",
     "text": [
      "Minimum value: 0.0010948719094959758\n",
      "Maximum value: 0.9933673815401622\n",
      "Mean value: 0.4687449146385616\n",
      "Normalized matrix:\n",
      "[[1.         0.34144321 0.6390645  0.49638795 0.2768261  0.39426736\n",
      "  0.95173356 0.06615867 0.10716268 0.866347  ]\n",
      " [0.03157601 0.72398493 0.80134941 0.46508358 0.28528071 0.09475598\n",
      "  0.53784628 0.70214652 0.90113247 0.68806095]\n",
      " [0.24212062 0.45118037 0.14499086 0.24257801 0.15374122 0.40328102\n",
      "  0.2336626  0.05940454 0.76111019 0.74513804]\n",
      " [0.55344142 0.41804192 0.41039729 0.20113445 0.37351471 0.18482418\n",
      "  0.54666993 0.07425401 0.31204196 0.2775712 ]\n",
      " [0.25451991 0.93619671 0.63292227 0.70300606 0.83246751 0.72537871\n",
      "  0.         0.96852473 0.89868609 0.61221393]\n",
      " [0.77082699 0.6321348  0.0541309  0.66597018 0.49795863 0.27278253\n",
      "  0.57938531 0.72698353 0.89843901 0.43823632]\n",
      " [0.38331192 0.71414395 0.4447604  0.58499621 0.66907896 0.19752411\n",
      "  0.16115866 0.34473279 0.13144687 0.20155635]\n",
      " [0.48363226 0.58327197 0.56653813 0.12012827 0.57164447 0.5475967\n",
      "  0.66749656 0.03887482 0.03417397 0.06018109]\n",
      " [0.60984054 0.15728325 0.90551347 0.65029273 0.62792347 0.123209\n",
      "  0.78241359 0.36446156 0.39051464 0.06015002]\n",
      " [0.37357728 0.95748152 0.86511088 0.26447806 0.77963374 0.85147244\n",
      "  0.26428711 0.84903179 0.06262968 0.42317088]]\n"
     ]
    }
   ],
   "source": [
    "matrix = np.random.rand(10, 10)\n",
    "\n",
    "minimum_value = np.min(matrix)\n",
    "maximum_value = np.max(matrix)\n",
    "mean_value = np.mean(matrix)\n",
    "\n",
    "# Normalization by: (value - min values of matrix) / (max value of matrix - min value of matrix)\n",
    "norm_matrix = (matrix - np.min(matrix)) / (np.max(matrix) - np.min(matrix))\n",
    "\n",
    "print(\"Minimum value:\", minimum_value)\n",
    "print(\"Maximum value:\", maximum_value)\n",
    "print(\"Mean value:\", mean_value)\n",
    "print(\"Normalized matrix:\")\n",
    "print(norm_matrix)"
   ]
  },
  {
   "cell_type": "markdown",
   "metadata": {
    "id": "RNcNkqTHAxhA"
   },
   "source": [
    "5. Consider a random 10x2 matrix representing cartesian coordinates, convert them to polar coordinates\n",
    "\n",
    "`hint: np.sqrt, np.arctan2`"
   ]
  },
  {
   "cell_type": "code",
   "execution_count": 5,
   "metadata": {
    "id": "TimwEyjqBxtP"
   },
   "outputs": [
    {
     "name": "stdout",
     "output_type": "stream",
     "text": [
      "Cartesian coordinates:\n",
      "[[0.24194856 0.17426054]\n",
      " [0.93566132 0.54442099]\n",
      " [0.66371053 0.33883933]\n",
      " [0.53002597 0.03793061]\n",
      " [0.65340395 0.17773648]\n",
      " [0.29680931 0.88592292]\n",
      " [0.9439264  0.50297506]\n",
      " [0.11505083 0.6537269 ]\n",
      " [0.92790375 0.21792943]\n",
      " [0.23532575 0.50092938]]\n",
      "\n",
      "Polar coordinates:\n",
      "[[0.29817083 0.62417978]\n",
      " [1.08252313 0.52697215]\n",
      " [0.74520048 0.47203034]\n",
      " [0.53138146 0.0714419 ]\n",
      " [0.6771462  0.26559012]\n",
      " [0.93432071 1.24752101]\n",
      " [1.06957045 0.48958415]\n",
      " [0.66377372 1.39658811]\n",
      " [0.95315193 0.23068128]\n",
      " [0.5534514  1.13161705]]\n"
     ]
    }
   ],
   "source": [
    "# Create a random 10x2 matrix representing Cartesian coordinates\n",
    "cartesian_matrix = np.random.rand(10, 2)\n",
    "\n",
    "# Convert to polar coordinates\n",
    "x = cartesian_matrix[:, 0]\n",
    "y = cartesian_matrix[:, 1]\n",
    "r = np.sqrt(x**2 + y**2)  # Calculate the distance from the origin (radius)\n",
    "theta = np.arctan2(y, x)  # Calculate the angle from the x-axis (theta)\n",
    "\n",
    "# Create a new 10x2 matrix representing polar coordinates\n",
    "polar_matrix = np.column_stack((r, theta))\n",
    "\n",
    "# Print the original Cartesian matrix and the converted polar matrix\n",
    "print(\"Cartesian coordinates:\")\n",
    "print(cartesian_matrix)\n",
    "print(\"\\nPolar coordinates:\")\n",
    "print(polar_matrix)"
   ]
  },
  {
   "cell_type": "markdown",
   "metadata": {
    "id": "StYSV1XMBx3D"
   },
   "source": [
    "6. Create random vector of size 10 and replace the maximum value by 0\n",
    "\n",
    "`hint: argmax`"
   ]
  },
  {
   "cell_type": "code",
   "execution_count": 10,
   "metadata": {
    "id": "OJLNkf9nEYBj"
   },
   "outputs": [
    {
     "name": "stdout",
     "output_type": "stream",
     "text": [
      "[0.32160283 0.16213045 0.56109666 0.91307065 0.29724046 0.6730942\n",
      " 0.10586118 0.30382319 0.94377915 0.77541779]\n"
     ]
    }
   ],
   "source": [
    "z = np.random.rand(10)\n",
    "print(z)"
   ]
  },
  {
   "cell_type": "code",
   "execution_count": 11,
   "metadata": {},
   "outputs": [
    {
     "name": "stdout",
     "output_type": "stream",
     "text": [
      "[0.32160283 0.16213045 0.56109666 0.91307065 0.29724046 0.6730942\n",
      " 0.10586118 0.30382319 0.         0.77541779]\n"
     ]
    }
   ],
   "source": [
    "z[z == np.max(z)] = 0\n",
    "print(z)"
   ]
  },
  {
   "cell_type": "markdown",
   "metadata": {
    "id": "pkMmd0g9EMTX"
   },
   "source": [
    "7. Create a structured array with x and y coordinates covering the [0,1]x[0,1] area.\n",
    "\n",
    "`hint: np.meshgrid`"
   ]
  },
  {
   "cell_type": "code",
   "execution_count": 24,
   "metadata": {
    "colab": {
     "base_uri": "https://localhost:8080/"
    },
    "executionInfo": {
     "elapsed": 291,
     "status": "ok",
     "timestamp": 1626098348908,
     "user": {
      "displayName": "Đorđe Grbić",
      "photoUrl": "https://lh3.googleusercontent.com/a-/AOh14GjMtdPDPC6XJoAlVJ9SyzF_WldAaS1YlXbiUOAReA=s64",
      "userId": "17224412897437983949"
     },
     "user_tz": -120
    },
    "id": "bl8BChgEEYvE",
    "outputId": "bab731d6-be47-4735-a658-28b8eeebfc4d"
   },
   "outputs": [
    {
     "name": "stdout",
     "output_type": "stream",
     "text": [
      "[0.  0.1 0.2 0.3 0.4 0.5 0.6 0.7 0.8 0.9 1. ]\n",
      "[0.  0.1 0.2 0.3 0.4 0.5 0.6 0.7 0.8 0.9 1. ]\n"
     ]
    }
   ],
   "source": [
    "x = np.arange(0, 1.1, 0.1)\n",
    "print(x)\n",
    "y = np.arange(0, 1.1, 0.1)\n",
    "print(y)"
   ]
  },
  {
   "cell_type": "code",
   "execution_count": 26,
   "metadata": {},
   "outputs": [
    {
     "data": {
      "text/plain": [
       "array([[0. , 0. ],\n",
       "       [0.1, 0. ],\n",
       "       [0.2, 0. ],\n",
       "       [0.3, 0. ],\n",
       "       [0.4, 0. ],\n",
       "       [0.5, 0. ],\n",
       "       [0.6, 0. ],\n",
       "       [0.7, 0. ],\n",
       "       [0.8, 0. ],\n",
       "       [0.9, 0. ],\n",
       "       [1. , 0. ],\n",
       "       [0. , 0.1],\n",
       "       [0.1, 0.1],\n",
       "       [0.2, 0.1],\n",
       "       [0.3, 0.1],\n",
       "       [0.4, 0.1],\n",
       "       [0.5, 0.1],\n",
       "       [0.6, 0.1],\n",
       "       [0.7, 0.1],\n",
       "       [0.8, 0.1],\n",
       "       [0.9, 0.1],\n",
       "       [1. , 0.1],\n",
       "       [0. , 0.2],\n",
       "       [0.1, 0.2],\n",
       "       [0.2, 0.2],\n",
       "       [0.3, 0.2],\n",
       "       [0.4, 0.2],\n",
       "       [0.5, 0.2],\n",
       "       [0.6, 0.2],\n",
       "       [0.7, 0.2],\n",
       "       [0.8, 0.2],\n",
       "       [0.9, 0.2],\n",
       "       [1. , 0.2],\n",
       "       [0. , 0.3],\n",
       "       [0.1, 0.3],\n",
       "       [0.2, 0.3],\n",
       "       [0.3, 0.3],\n",
       "       [0.4, 0.3],\n",
       "       [0.5, 0.3],\n",
       "       [0.6, 0.3],\n",
       "       [0.7, 0.3],\n",
       "       [0.8, 0.3],\n",
       "       [0.9, 0.3],\n",
       "       [1. , 0.3],\n",
       "       [0. , 0.4],\n",
       "       [0.1, 0.4],\n",
       "       [0.2, 0.4],\n",
       "       [0.3, 0.4],\n",
       "       [0.4, 0.4],\n",
       "       [0.5, 0.4],\n",
       "       [0.6, 0.4],\n",
       "       [0.7, 0.4],\n",
       "       [0.8, 0.4],\n",
       "       [0.9, 0.4],\n",
       "       [1. , 0.4],\n",
       "       [0. , 0.5],\n",
       "       [0.1, 0.5],\n",
       "       [0.2, 0.5],\n",
       "       [0.3, 0.5],\n",
       "       [0.4, 0.5],\n",
       "       [0.5, 0.5],\n",
       "       [0.6, 0.5],\n",
       "       [0.7, 0.5],\n",
       "       [0.8, 0.5],\n",
       "       [0.9, 0.5],\n",
       "       [1. , 0.5],\n",
       "       [0. , 0.6],\n",
       "       [0.1, 0.6],\n",
       "       [0.2, 0.6],\n",
       "       [0.3, 0.6],\n",
       "       [0.4, 0.6],\n",
       "       [0.5, 0.6],\n",
       "       [0.6, 0.6],\n",
       "       [0.7, 0.6],\n",
       "       [0.8, 0.6],\n",
       "       [0.9, 0.6],\n",
       "       [1. , 0.6],\n",
       "       [0. , 0.7],\n",
       "       [0.1, 0.7],\n",
       "       [0.2, 0.7],\n",
       "       [0.3, 0.7],\n",
       "       [0.4, 0.7],\n",
       "       [0.5, 0.7],\n",
       "       [0.6, 0.7],\n",
       "       [0.7, 0.7],\n",
       "       [0.8, 0.7],\n",
       "       [0.9, 0.7],\n",
       "       [1. , 0.7],\n",
       "       [0. , 0.8],\n",
       "       [0.1, 0.8],\n",
       "       [0.2, 0.8],\n",
       "       [0.3, 0.8],\n",
       "       [0.4, 0.8],\n",
       "       [0.5, 0.8],\n",
       "       [0.6, 0.8],\n",
       "       [0.7, 0.8],\n",
       "       [0.8, 0.8],\n",
       "       [0.9, 0.8],\n",
       "       [1. , 0.8],\n",
       "       [0. , 0.9],\n",
       "       [0.1, 0.9],\n",
       "       [0.2, 0.9],\n",
       "       [0.3, 0.9],\n",
       "       [0.4, 0.9],\n",
       "       [0.5, 0.9],\n",
       "       [0.6, 0.9],\n",
       "       [0.7, 0.9],\n",
       "       [0.8, 0.9],\n",
       "       [0.9, 0.9],\n",
       "       [1. , 0.9],\n",
       "       [0. , 1. ],\n",
       "       [0.1, 1. ],\n",
       "       [0.2, 1. ],\n",
       "       [0.3, 1. ],\n",
       "       [0.4, 1. ],\n",
       "       [0.5, 1. ],\n",
       "       [0.6, 1. ],\n",
       "       [0.7, 1. ],\n",
       "       [0.8, 1. ],\n",
       "       [0.9, 1. ],\n",
       "       [1. , 1. ]])"
      ]
     },
     "execution_count": 26,
     "metadata": {},
     "output_type": "execute_result"
    }
   ],
   "source": [
    "# Create a structured array with x and y coordinates\n",
    "X, Y = np.meshgrid(x, y)\n",
    "\n",
    "# Stack 1-D arrays as columns into a 2-D array.\n",
    "structured_array = np.column_stack((X.ravel(), Y.ravel()))\n",
    "\n",
    "structured_array"
   ]
  },
  {
   "cell_type": "markdown",
   "metadata": {
    "id": "Ly6Yg3ABEY2-"
   },
   "source": [
    "8. Having a scalar `x` and a random vector `v`, find a value in `v` that is closest to `x`\n",
    "\n",
    "`hint: argmin`"
   ]
  },
  {
   "cell_type": "code",
   "execution_count": 27,
   "metadata": {
    "id": "WC3FkkfkFCGU"
   },
   "outputs": [
    {
     "name": "stdout",
     "output_type": "stream",
     "text": [
      "From [0.56975156 0.22962203 0.78708437 0.46793003 0.94846656 0.85952067\n",
      " 0.38510286 0.50959084 0.21642068 0.69222958] to 0.048294854386137676 the closest value is 0.21642068212064813\n"
     ]
    }
   ],
   "source": [
    "v = np.random.rand(10)\n",
    "x = np.random.rand()\n",
    "closest_value = v[np.abs(v-x).argmin()]\n",
    "print(\"From\", v, \"to\", x, \"the closest value is\", closest_value)"
   ]
  },
  {
   "cell_type": "markdown",
   "metadata": {
    "id": "bz-Y3S-PFKgB"
   },
   "source": [
    "9. Consider a random vector with shape (100,2) representing coordinates, find point by point distances and put them in a (100,100) array."
   ]
  },
  {
   "cell_type": "code",
   "execution_count": 28,
   "metadata": {
    "id": "NG7-1x9WPu6K"
   },
   "outputs": [
    {
     "name": "stdout",
     "output_type": "stream",
     "text": [
      "[[0.72112796 0.06870975]\n",
      " [0.52273139 0.83932965]\n",
      " [0.73810104 0.94031041]\n",
      " [0.18000796 0.82721542]\n",
      " [0.19019841 0.58029056]\n",
      " [0.02914256 0.81781347]\n",
      " [0.00318543 0.98321901]\n",
      " [0.61730309 0.86495381]\n",
      " [0.01352132 0.14764027]\n",
      " [0.67755919 0.80408193]\n",
      " [0.4545183  0.52927052]\n",
      " [0.3665821  0.58024149]\n",
      " [0.93685159 0.72981317]\n",
      " [0.21265192 0.87101172]\n",
      " [0.24749489 0.77469282]\n",
      " [0.13442936 0.12945069]\n",
      " [0.93746811 0.28563673]\n",
      " [0.24262815 0.7700799 ]\n",
      " [0.04943438 0.30717228]\n",
      " [0.07767322 0.82095905]\n",
      " [0.00517948 0.78315392]\n",
      " [0.48398668 0.27365919]\n",
      " [0.91237915 0.15190767]\n",
      " [0.30805551 0.71310196]\n",
      " [0.29261909 0.47922802]\n",
      " [0.68486039 0.48949732]\n",
      " [0.72827596 0.29613477]\n",
      " [0.93534752 0.92472015]\n",
      " [0.69767474 0.50742738]\n",
      " [0.89146152 0.04141336]\n",
      " [0.36476056 0.83762759]\n",
      " [0.89160342 0.58092951]\n",
      " [0.58597305 0.29087826]\n",
      " [0.72067898 0.32156685]\n",
      " [0.03806422 0.53836574]\n",
      " [0.52132788 0.10939237]\n",
      " [0.87998624 0.03533684]\n",
      " [0.97910949 0.33448421]\n",
      " [0.08269626 0.59875663]\n",
      " [0.21750083 0.90802946]\n",
      " [0.91930729 0.65940732]\n",
      " [0.4006325  0.7617238 ]\n",
      " [0.92552644 0.06930226]\n",
      " [0.44313568 0.77789071]\n",
      " [0.35037681 0.6853865 ]\n",
      " [0.31160363 0.23565281]\n",
      " [0.19340229 0.22939196]\n",
      " [0.79992347 0.18880636]\n",
      " [0.55529383 0.43684868]\n",
      " [0.71800976 0.77158263]\n",
      " [0.53474909 0.71238815]\n",
      " [0.8998139  0.96231983]\n",
      " [0.5634056  0.96359518]\n",
      " [0.34693952 0.67317998]\n",
      " [0.20750171 0.6067422 ]\n",
      " [0.12730022 0.40369751]\n",
      " [0.51628788 0.77965436]\n",
      " [0.00128309 0.69411669]\n",
      " [0.65662891 0.33390439]\n",
      " [0.72462222 0.25802269]\n",
      " [0.63653174 0.37850173]\n",
      " [0.76287929 0.37573006]\n",
      " [0.81742538 0.89094874]\n",
      " [0.92790292 0.33023998]\n",
      " [0.43829172 0.0458613 ]\n",
      " [0.00362655 0.39878556]\n",
      " [0.16945355 0.80325417]\n",
      " [0.9659905  0.91740899]\n",
      " [0.87803557 0.7282185 ]\n",
      " [0.6953031  0.48982709]\n",
      " [0.33430454 0.8164079 ]\n",
      " [0.67935795 0.61503472]\n",
      " [0.07782593 0.61735411]\n",
      " [0.48721501 0.04524755]\n",
      " [0.45019284 0.10320691]\n",
      " [0.22157439 0.02900909]\n",
      " [0.6011535  0.62720399]\n",
      " [0.48971259 0.66558749]\n",
      " [0.60793843 0.5916697 ]\n",
      " [0.19721895 0.83435958]\n",
      " [0.58942494 0.21730365]\n",
      " [0.06323473 0.3024322 ]\n",
      " [0.28952304 0.68117262]\n",
      " [0.54501047 0.84132147]\n",
      " [0.39473808 0.11780688]\n",
      " [0.23457001 0.58700253]\n",
      " [0.75515663 0.20852516]\n",
      " [0.5613465  0.18469257]\n",
      " [0.98989576 0.87120054]\n",
      " [0.09707908 0.80174202]\n",
      " [0.27322363 0.76675895]\n",
      " [0.63865447 0.28460946]\n",
      " [0.36684983 0.09859318]\n",
      " [0.92793563 0.95903707]\n",
      " [0.1784621  0.32976463]\n",
      " [0.55523511 0.2789531 ]\n",
      " [0.96059587 0.51705416]\n",
      " [0.11020028 0.27114351]\n",
      " [0.95610292 0.77102923]\n",
      " [0.64770107 0.23184919]]\n"
     ]
    }
   ],
   "source": [
    "vector = np.random.rand(100,2)\n",
    "print(vector)"
   ]
  },
  {
   "cell_type": "code",
   "execution_count": 33,
   "metadata": {},
   "outputs": [
    {
     "name": "stdout",
     "output_type": "stream",
     "text": [
      "(100, 2)\n",
      "[[0.         0.79574885 0.87176591 ... 0.64359309 0.74058483 0.17890217]\n",
      " [0.79574885 0.         0.23786803 ... 0.70215199 0.43872067 0.62020153]\n",
      " [0.87176591 0.23786803 0.         ... 0.91762939 0.27600895 0.71420548]\n",
      " ...\n",
      " [0.64359309 0.70215199 0.91762939 ... 0.         0.98256654 0.5389352 ]\n",
      " [0.74058483 0.43872067 0.27600895 ... 0.98256654 0.         0.62114959]\n",
      " [0.17890217 0.62020153 0.71420548 ... 0.5389352  0.62114959 0.        ]]\n"
     ]
    }
   ],
   "source": [
    "# View inputs as arrays with at least two dimensions\n",
    "x, y = np.atleast_2d(vector[:,0], vector[:,1])\n",
    "\n",
    "# Calculate point-by-point distances: squared euclidean distance\n",
    "d = np.sqrt((x-x.T)**2 + (y-y.T)**2)\n",
    "\n",
    "print(vector.shape)\n",
    "print(d)"
   ]
  },
  {
   "cell_type": "markdown",
   "metadata": {
    "id": "mASMahBpGOZW"
   },
   "source": [
    "10. Create a random (100, 100) matrix with values from 0 to 1. Turn all values lower than 0.5 into 0.0"
   ]
  },
  {
   "cell_type": "code",
   "execution_count": 18,
   "metadata": {
    "id": "nfJsjzgeGlOs"
   },
   "outputs": [
    {
     "name": "stdout",
     "output_type": "stream",
     "text": [
      "[[0.08074307 0.24260747 0.3262154  ... 0.71698766 0.99598509 0.71529856]\n",
      " [0.46559758 0.2558712  0.95135087 ... 0.67487787 0.14501015 0.80956058]\n",
      " [0.22915168 0.0987818  0.15851576 ... 0.75700815 0.89365398 0.66866802]\n",
      " ...\n",
      " [0.20823558 0.14257344 0.11450439 ... 0.0264447  0.26705254 0.35251347]\n",
      " [0.25981747 0.52877396 0.95769164 ... 0.19400957 0.89051023 0.22806646]\n",
      " [0.77891208 0.98256827 0.28586012 ... 0.92421876 0.19381074 0.7456423 ]]\n",
      "[[0.         0.         0.         ... 0.71698766 0.99598509 0.71529856]\n",
      " [0.         0.         0.95135087 ... 0.67487787 0.         0.80956058]\n",
      " [0.         0.         0.         ... 0.75700815 0.89365398 0.66866802]\n",
      " ...\n",
      " [0.         0.         0.         ... 0.         0.         0.        ]\n",
      " [0.         0.52877396 0.95769164 ... 0.         0.89051023 0.        ]\n",
      " [0.77891208 0.98256827 0.         ... 0.92421876 0.         0.7456423 ]]\n"
     ]
    }
   ],
   "source": [
    "vector = np.random.rand(100,100)\n",
    "print(vector)\n",
    "\n",
    "vector[vector < 0.5] = 0\n",
    "print(vector)"
   ]
  },
  {
   "cell_type": "markdown",
   "metadata": {
    "id": "7FwporQmKMfV"
   },
   "source": [
    "11. Do a dot product of two matrices and print only the diagonal values."
   ]
  },
  {
   "cell_type": "code",
   "execution_count": 19,
   "metadata": {
    "id": "DqLnFglFKijP"
   },
   "outputs": [
    {
     "name": "stdout",
     "output_type": "stream",
     "text": [
      "[1.51010308 2.39339654 2.21037915 2.24804489 3.04143237 1.7961645\n",
      " 2.52408673 1.56398922 2.90839926 2.67884869]\n"
     ]
    }
   ],
   "source": [
    "matrix1 = np.random.rand(10,10)\n",
    "matrix2 = np.random.rand(10,10)\n",
    "dot_product = np.dot(matrix1, matrix2)\n",
    "print(np.diagonal(dot_product))"
   ]
  },
  {
   "cell_type": "markdown",
   "metadata": {
    "id": "FwBos0hcKj5j"
   },
   "source": [
    "12. Swap two rows of a matrix."
   ]
  },
  {
   "cell_type": "code",
   "execution_count": 20,
   "metadata": {
    "id": "sXSrNvAhKr_1"
   },
   "outputs": [
    {
     "name": "stdout",
     "output_type": "stream",
     "text": [
      "Original matrix:\n",
      "[[0.69447953 0.04959939 0.17704192 0.55848788 0.92407621 0.22627967\n",
      "  0.75103021 0.33358075 0.95365809 0.03027638]\n",
      " [0.77938885 0.30081672 0.58444102 0.59244476 0.32952266 0.87903224\n",
      "  0.40938244 0.67340265 0.33367091 0.0698992 ]\n",
      " [0.88035739 0.4264009  0.74902234 0.45333326 0.91937974 0.6552587\n",
      "  0.85408029 0.49791898 0.02036147 0.25036213]\n",
      " [0.62568255 0.71032738 0.78343014 0.56903372 0.07844213 0.64061568\n",
      "  0.23110907 0.63243707 0.47909875 0.04872689]\n",
      " [0.56621226 0.09292283 0.3827601  0.83566685 0.38180909 0.8622741\n",
      "  0.24701286 0.90335492 0.62365637 0.49063807]\n",
      " [0.14959043 0.12654561 0.26734348 0.66404263 0.7398541  0.77924935\n",
      "  0.59004589 0.6864495  0.25357072 0.50725663]\n",
      " [0.39735026 0.12725633 0.75905623 0.77341054 0.40611937 0.72832665\n",
      "  0.91109469 0.43806895 0.06579028 0.30637576]\n",
      " [0.60066043 0.50629856 0.47839571 0.37404341 0.59841506 0.0263607\n",
      "  0.93439312 0.18511153 0.78158934 0.30159292]\n",
      " [0.92723715 0.11152464 0.27500812 0.02854643 0.63567256 0.07962548\n",
      "  0.11028727 0.66512537 0.62125174 0.80070282]\n",
      " [0.90227812 0.91470366 0.35673908 0.47108201 0.93379104 0.03331273\n",
      "  0.26057592 0.53534378 0.26620543 0.65111113]]\n",
      "Matrix after swapping rows:\n",
      "[[0.77938885 0.30081672 0.58444102 0.59244476 0.32952266 0.87903224\n",
      "  0.40938244 0.67340265 0.33367091 0.0698992 ]\n",
      " [0.69447953 0.04959939 0.17704192 0.55848788 0.92407621 0.22627967\n",
      "  0.75103021 0.33358075 0.95365809 0.03027638]\n",
      " [0.88035739 0.4264009  0.74902234 0.45333326 0.91937974 0.6552587\n",
      "  0.85408029 0.49791898 0.02036147 0.25036213]\n",
      " [0.62568255 0.71032738 0.78343014 0.56903372 0.07844213 0.64061568\n",
      "  0.23110907 0.63243707 0.47909875 0.04872689]\n",
      " [0.56621226 0.09292283 0.3827601  0.83566685 0.38180909 0.8622741\n",
      "  0.24701286 0.90335492 0.62365637 0.49063807]\n",
      " [0.14959043 0.12654561 0.26734348 0.66404263 0.7398541  0.77924935\n",
      "  0.59004589 0.6864495  0.25357072 0.50725663]\n",
      " [0.39735026 0.12725633 0.75905623 0.77341054 0.40611937 0.72832665\n",
      "  0.91109469 0.43806895 0.06579028 0.30637576]\n",
      " [0.60066043 0.50629856 0.47839571 0.37404341 0.59841506 0.0263607\n",
      "  0.93439312 0.18511153 0.78158934 0.30159292]\n",
      " [0.92723715 0.11152464 0.27500812 0.02854643 0.63567256 0.07962548\n",
      "  0.11028727 0.66512537 0.62125174 0.80070282]\n",
      " [0.90227812 0.91470366 0.35673908 0.47108201 0.93379104 0.03331273\n",
      "  0.26057592 0.53534378 0.26620543 0.65111113]]\n"
     ]
    }
   ],
   "source": [
    "matrix3 = np.random.rand(10,10)\n",
    "print(\"Original matrix:\")\n",
    "print(matrix3)\n",
    "\n",
    "matrix3[[0, 1]] = matrix3[[1, 0]]\n",
    "\n",
    "print(\"Matrix after swapping rows:\")\n",
    "print(matrix3)"
   ]
  },
  {
   "cell_type": "markdown",
   "metadata": {
    "id": "BAvhQbHeQr5j"
   },
   "source": [
    "13. Solve the system of equations:\n",
    "\n",
    "  $3x - 11y = 3$\n",
    "\n",
    "  $x - 4y = 6$\n",
    "\n",
    "  using `numpy.linalg.solve`"
   ]
  },
  {
   "cell_type": "code",
   "execution_count": 34,
   "metadata": {
    "id": "3NDMuVzAQvzI"
   },
   "outputs": [
    {
     "name": "stdout",
     "output_type": "stream",
     "text": [
      "x and y are:  -53.99999999999997 -14.999999999999993\n"
     ]
    }
   ],
   "source": [
    "a = np.array([[3, -11], [1, -4]])\n",
    "b = np.array([3,6])\n",
    "outcome = np.linalg.solve(a,b)\n",
    "print(\"x and y are: \", outcome[0], outcome[1])"
   ]
  },
  {
   "cell_type": "code",
   "execution_count": null,
   "metadata": {},
   "outputs": [],
   "source": []
  }
 ],
 "metadata": {
  "colab": {
   "provenance": []
  },
  "kernelspec": {
   "display_name": "Python 3 (ipykernel)",
   "language": "python",
   "name": "python3"
  },
  "language_info": {
   "codemirror_mode": {
    "name": "ipython",
    "version": 3
   },
   "file_extension": ".py",
   "mimetype": "text/x-python",
   "name": "python",
   "nbconvert_exporter": "python",
   "pygments_lexer": "ipython3",
   "version": "3.9.12"
  }
 },
 "nbformat": 4,
 "nbformat_minor": 4
}
